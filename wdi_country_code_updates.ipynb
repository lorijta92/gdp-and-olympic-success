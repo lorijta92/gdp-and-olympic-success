{
 "cells": [
  {
   "cell_type": "markdown",
   "metadata": {},
   "source": [
    "## Import dependencies"
   ]
  },
  {
   "cell_type": "code",
   "execution_count": 41,
   "metadata": {},
   "outputs": [],
   "source": [
    "import os\n",
    "\n",
    "import pandas as pd\n",
    "import numpy as np\n",
    "\n",
    "from flask import Flask, render_template, jsonify, request\n",
    "from flask_sqlalchemy import SQLAlchemy\n",
    "\n",
    "import sqlalchemy\n",
    "from sqlalchemy.ext.automap import automap_base\n",
    "from sqlalchemy.orm import Session\n",
    "from sqlalchemy import create_engine\n",
    "\n",
    "import sqlite3"
   ]
  },
  {
   "cell_type": "markdown",
   "metadata": {},
   "source": [
    "## Database setup"
   ]
  },
  {
   "cell_type": "code",
   "execution_count": 42,
   "metadata": {},
   "outputs": [],
   "source": [
    "conn = sqlite3.connect(\"Resources/gdp_olympic.sqlite\")\n",
    "cursor = conn.cursor()"
   ]
  },
  {
   "cell_type": "markdown",
   "metadata": {},
   "source": [
    "## Mismatched country codes"
   ]
  },
  {
   "cell_type": "markdown",
   "metadata": {},
   "source": [
    "#### Load tables"
   ]
  },
  {
   "cell_type": "code",
   "execution_count": 43,
   "metadata": {},
   "outputs": [],
   "source": [
    "# Load in wdi table\n",
    "wdi = pd.read_sql_query(\"SELECT * FROM wdi\", conn)"
   ]
  },
  {
   "cell_type": "code",
   "execution_count": 44,
   "metadata": {},
   "outputs": [],
   "source": [
    "# Load in winter medal winners table\n",
    "winter_medals = pd.read_sql_query(\"SELECT * FROM winter\", conn)"
   ]
  },
  {
   "cell_type": "markdown",
   "metadata": {},
   "source": [
    "#### Create relevant lists and explore"
   ]
  },
  {
   "cell_type": "code",
   "execution_count": 45,
   "metadata": {},
   "outputs": [],
   "source": [
    "# Define list of years where winter games were held and which appear in WDI table\n",
    "years = [1960, 1964, 1968, 1972, 1976, 1980, 1984, 1988, 1992, 1994, 1998, 2002, 2006, 2010, 2014]"
   ]
  },
  {
   "cell_type": "code",
   "execution_count": 46,
   "metadata": {},
   "outputs": [
    {
     "data": {
      "text/plain": [
       "[147, 185, 199, 200, 210, 218, 222, 264, 325, 343, 447, 481, 531, 529, 612]"
      ]
     },
     "execution_count": 46,
     "metadata": {},
     "output_type": "execute_result"
    }
   ],
   "source": [
    "# Make list of number of medals per year of winter games based on winter_medals table\n",
    "\n",
    "num_winter_medals = []\n",
    "\n",
    "for year in years:\n",
    "    num_winter_medals.append(len(winter_medals[winter_medals.year==year]))\n",
    "\n",
    "num_winter_medals"
   ]
  },
  {
   "cell_type": "code",
   "execution_count": 47,
   "metadata": {},
   "outputs": [],
   "source": [
    "# Define countries1 to be unique list of countries based on wdi table\n",
    "countries1 = wdi.country_code.unique()"
   ]
  },
  {
   "cell_type": "code",
   "execution_count": 48,
   "metadata": {},
   "outputs": [
    {
     "data": {
      "text/plain": [
       "263"
      ]
     },
     "execution_count": 48,
     "metadata": {},
     "output_type": "execute_result"
    }
   ],
   "source": [
    "# Show there are 263 such countries\n",
    "len(countries1)"
   ]
  },
  {
   "cell_type": "code",
   "execution_count": 49,
   "metadata": {},
   "outputs": [],
   "source": [
    "# Define countries2 to be unique list of countries based on winter_medals table\n",
    "countries2 = winter_medals.country_code.unique()"
   ]
  },
  {
   "cell_type": "code",
   "execution_count": 50,
   "metadata": {},
   "outputs": [
    {
     "data": {
      "text/plain": [
       "45"
      ]
     },
     "execution_count": 50,
     "metadata": {},
     "output_type": "execute_result"
    }
   ],
   "source": [
    "# Show there are 45 such countries\n",
    "len(countries2)"
   ]
  },
  {
   "cell_type": "code",
   "execution_count": 51,
   "metadata": {},
   "outputs": [
    {
     "data": {
      "text/plain": [
       "['SUI',\n",
       " 'GER',\n",
       " 'TCH',\n",
       " 'FRG',\n",
       " 'NED',\n",
       " 'URS',\n",
       " 'EUA',\n",
       " 'GDR',\n",
       " 'BUL',\n",
       " 'YUG',\n",
       " 'EUN',\n",
       " 'SLO',\n",
       " 'DEN',\n",
       " 'CRO',\n",
       " 'LAT']"
      ]
     },
     "execution_count": 51,
     "metadata": {},
     "output_type": "execute_result"
    }
   ],
   "source": [
    "# Find which countries appear in countries2 BUT NOT countries1. This mismatch is messing with our counts.\n",
    "problematic_countries = []\n",
    "\n",
    "for country in countries2:\n",
    "    if country not in countries1:\n",
    "        problematic_countries.append(country)\n",
    "\n",
    "problematic_countries"
   ]
  },
  {
   "cell_type": "markdown",
   "metadata": {},
   "source": [
    "#### Map values "
   ]
  },
  {
   "cell_type": "code",
   "execution_count": 52,
   "metadata": {},
   "outputs": [],
   "source": [
    "# Create a dictionary that maps the country codes in winter_medals table which are not equivalent strings but \n",
    "# represent equivalent countries to be represented by one unique code.\n",
    "\n",
    "medals_country_code_dict = {\n",
    "    'country_code': {\n",
    "        'TCH': 'CZE', # both represent Czech Republic\n",
    "        'FRG': 'GER', # FRG represents West Germany, which for our purposes we will track as just Germany\n",
    "        'GDR': 'GER', # GDR represents East Germany, which for our purposes we will track as just Germany\n",
    "        'URS': 'RUS', # URS represents Soviet Union, which for our purposes we will track as just Russia\n",
    "        'EUA': 'USA', # EUA represents America, which for our purposes we will track as just USA\n",
    "        'EUN': 'RUS', # EUN represents Soviet Union at 1992 games, which for our purposes we will track as just Russia\n",
    "    }\n",
    "}"
   ]
  },
  {
   "cell_type": "code",
   "execution_count": 53,
   "metadata": {},
   "outputs": [],
   "source": [
    "# Create a dictionary that maps the country codes in wdi table to match those coming from winter_medals table.\n",
    "\n",
    "wdi_country_code_dict = {\n",
    "    'country_code': {\n",
    "       'SWZ': 'SUI', # both represent Switzerland\n",
    "       'DEU': 'GER', # both represent Germany\n",
    "       'NLD': 'NED', # both represent Netherlands\n",
    "       'BGR': 'BUL', # both represent Bulgaria\n",
    "       'SRB': 'YUG', # SRB represents Serbia and YUG represents Serbia and Montenegro - choosing just Serbia \n",
    "       'SVN': 'SLO', # both represent Slovania\n",
    "       'DNK': 'DEN', # both represent Denmark\n",
    "       'HRV': 'CRO', # both represent Croatia\n",
    "       'LVA': 'LAT' # both represent Latvia\n",
    "    }\n",
    "}"
   ]
  },
  {
   "cell_type": "code",
   "execution_count": 56,
   "metadata": {},
   "outputs": [],
   "source": [
    "# Update the data in wdi table based on this dictionary mapping\n",
    "winter_medals = winter_medals.replace(medals_country_code_dict)\n",
    "wdi = wdi.replace(wdi_country_code_dict)"
   ]
  },
  {
   "cell_type": "code",
   "execution_count": 58,
   "metadata": {},
   "outputs": [],
   "source": [
    "# Push the changes to csv and subsequently the sqlite database which calls this csv\n",
    "wdi.to_csv(\"Resources/wdi.csv\", index=False)\n",
    "winter_medals.to_csv(\"Resources/winter.csv\", index=False)"
   ]
  },
  {
   "cell_type": "code",
   "execution_count": null,
   "metadata": {},
   "outputs": [],
   "source": []
  }
 ],
 "metadata": {
  "kernelspec": {
   "display_name": "Python [conda env:PythonData] *",
   "language": "python",
   "name": "conda-env-PythonData-py"
  },
  "language_info": {
   "codemirror_mode": {
    "name": "ipython",
    "version": 3
   },
   "file_extension": ".py",
   "mimetype": "text/x-python",
   "name": "python",
   "nbconvert_exporter": "python",
   "pygments_lexer": "ipython3",
   "version": "3.7.3"
  }
 },
 "nbformat": 4,
 "nbformat_minor": 2
}
